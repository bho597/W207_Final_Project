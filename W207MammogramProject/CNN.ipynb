{
 "cells": [
  {
   "cell_type": "markdown",
   "id": "7acf91db",
   "metadata": {},
   "source": [
    "# Image Classification with CNN"
   ]
  },
  {
   "cell_type": "code",
   "execution_count": 1,
   "id": "8123afdd",
   "metadata": {},
   "outputs": [
    {
     "name": "stderr",
     "output_type": "stream",
     "text": [
      "2023-03-25 20:32:29.437816: I tensorflow/tsl/cuda/cudart_stub.cc:28] Could not find cuda drivers on your machine, GPU will not be used.\n",
      "2023-03-25 20:32:29.471690: I tensorflow/tsl/cuda/cudart_stub.cc:28] Could not find cuda drivers on your machine, GPU will not be used.\n",
      "2023-03-25 20:32:29.472170: I tensorflow/core/platform/cpu_feature_guard.cc:182] This TensorFlow binary is optimized to use available CPU instructions in performance-critical operations.\n",
      "To enable the following instructions: AVX2 FMA, in other operations, rebuild TensorFlow with the appropriate compiler flags.\n",
      "2023-03-25 20:32:29.972334: W tensorflow/compiler/tf2tensorrt/utils/py_utils.cc:38] TF-TRT Warning: Could not find TensorRT\n"
     ]
    }
   ],
   "source": [
    "import pandas as pd\n",
    "import pydicom\n",
    "import numpy as np\n",
    "import matplotlib.pyplot as plt\n",
    "import pickle\n",
    "import random\n",
    "import tensorflow as tf\n",
    "import os\n",
    "\n",
    "from tqdm import tqdm\n",
    "from glob import glob\n",
    "from matplotlib import pyplot as plt\n",
    "from sklearn.model_selection import GridSearchCV\n",
    "from sklearn.model_selection import train_test_split\n",
    "from sklearn.utils.class_weight import compute_class_weight\n",
    "from skimage import io, transform\n",
    "\n",
    "from keras.metrics import AUC\n",
    "from keras.models import Sequential\n",
    "from keras.layers import Dense, Dropout, Flatten, BatchNormalization, Activation\n",
    "from keras.layers.convolutional import Conv2D, MaxPooling2D\n",
    "from keras.constraints import maxnorm\n",
    "from keras.utils import np_utils\n",
    "from keras.preprocessing.image import ImageDataGenerator"
   ]
  },
  {
   "cell_type": "code",
   "execution_count": 2,
   "id": "a97b8ee7",
   "metadata": {},
   "outputs": [],
   "source": [
    "def plot_history(history, title = ''):\n",
    "  plt.ylabel('AUC')\n",
    "  plt.xlabel('Epoch')\n",
    "  plt.xticks(range(0, len(history['loss'] + 1)))\n",
    "  plt.plot(history['auc_4'], label=\"training\", marker='o')\n",
    "  plt.plot(history['val_auc_4'], label=\"validation\", marker='o')\n",
    "  plt.title(title)\n",
    "  plt.legend()\n",
    "  plt.show()"
   ]
  },
  {
   "cell_type": "markdown",
   "id": "af9bdda1",
   "metadata": {},
   "source": [
    "## Settings"
   ]
  },
  {
   "cell_type": "code",
   "execution_count": 3,
   "id": "7e26140c",
   "metadata": {},
   "outputs": [],
   "source": [
    "dicom_directory = f'../train_images'"
   ]
  },
  {
   "cell_type": "code",
   "execution_count": 4,
   "id": "b8c19234",
   "metadata": {},
   "outputs": [],
   "source": [
    "random_state = 42"
   ]
  },
  {
   "cell_type": "code",
   "execution_count": 5,
   "id": "b0a50a6d",
   "metadata": {},
   "outputs": [],
   "source": [
    "random.seed(random_state)\n",
    "tf.random.set_seed(random_state)\n",
    "np.random.seed(random_state)"
   ]
  },
  {
   "cell_type": "code",
   "execution_count": 6,
   "id": "c8ebe77d",
   "metadata": {},
   "outputs": [],
   "source": [
    "# dimensions to resize\n",
    "resize_dimensions = (224, 224)"
   ]
  },
  {
   "cell_type": "code",
   "execution_count": 7,
   "id": "6a584f34",
   "metadata": {},
   "outputs": [],
   "source": [
    "USE_IMPORTED_DATA = False\n",
    "USE_REDUCED_DATASET = True"
   ]
  },
  {
   "cell_type": "markdown",
   "id": "ac7b31ba",
   "metadata": {},
   "source": [
    "## Import Data"
   ]
  },
  {
   "cell_type": "code",
   "execution_count": 8,
   "id": "b2c421a1",
   "metadata": {},
   "outputs": [
    {
     "data": {
      "text/html": [
       "<div>\n",
       "<style scoped>\n",
       "    .dataframe tbody tr th:only-of-type {\n",
       "        vertical-align: middle;\n",
       "    }\n",
       "\n",
       "    .dataframe tbody tr th {\n",
       "        vertical-align: top;\n",
       "    }\n",
       "\n",
       "    .dataframe thead th {\n",
       "        text-align: right;\n",
       "    }\n",
       "</style>\n",
       "<table border=\"1\" class=\"dataframe\">\n",
       "  <thead>\n",
       "    <tr style=\"text-align: right;\">\n",
       "      <th></th>\n",
       "      <th>filename</th>\n",
       "      <th>n_rows</th>\n",
       "      <th>n_cols</th>\n",
       "      <th>file_path</th>\n",
       "    </tr>\n",
       "  </thead>\n",
       "  <tbody>\n",
       "    <tr>\n",
       "      <th>0</th>\n",
       "      <td>1459541791.dcm</td>\n",
       "      <td>5355</td>\n",
       "      <td>4915</td>\n",
       "      <td>../train_images/10006/1459541791.dcm</td>\n",
       "    </tr>\n",
       "    <tr>\n",
       "      <th>1</th>\n",
       "      <td>1864590858.dcm</td>\n",
       "      <td>5355</td>\n",
       "      <td>4915</td>\n",
       "      <td>../train_images/10006/1864590858.dcm</td>\n",
       "    </tr>\n",
       "    <tr>\n",
       "      <th>2</th>\n",
       "      <td>1874946579.dcm</td>\n",
       "      <td>5355</td>\n",
       "      <td>4915</td>\n",
       "      <td>../train_images/10006/1874946579.dcm</td>\n",
       "    </tr>\n",
       "    <tr>\n",
       "      <th>3</th>\n",
       "      <td>462822612.dcm</td>\n",
       "      <td>5355</td>\n",
       "      <td>4915</td>\n",
       "      <td>../train_images/10006/462822612.dcm</td>\n",
       "    </tr>\n",
       "    <tr>\n",
       "      <th>4</th>\n",
       "      <td>1031443799.dcm</td>\n",
       "      <td>2776</td>\n",
       "      <td>2082</td>\n",
       "      <td>../train_images/10011/1031443799.dcm</td>\n",
       "    </tr>\n",
       "  </tbody>\n",
       "</table>\n",
       "</div>"
      ],
      "text/plain": [
       "         filename  n_rows  n_cols                             file_path\n",
       "0  1459541791.dcm    5355    4915  ../train_images/10006/1459541791.dcm\n",
       "1  1864590858.dcm    5355    4915  ../train_images/10006/1864590858.dcm\n",
       "2  1874946579.dcm    5355    4915  ../train_images/10006/1874946579.dcm\n",
       "3   462822612.dcm    5355    4915   ../train_images/10006/462822612.dcm\n",
       "4  1031443799.dcm    2776    2082  ../train_images/10011/1031443799.dcm"
      ]
     },
     "execution_count": 8,
     "metadata": {},
     "output_type": "execute_result"
    }
   ],
   "source": [
    "# Took about 50 minutes\n",
    "\n",
    "if not os.path.isfile('image_metrics.csv') and not USE_IMPORTED_DATA:\n",
    "    # Create an empty list to store file names and metadata\n",
    "    dicom_files = []\n",
    "\n",
    "    image_path_list = glob(f'{dicom_directory}/*/*.dcm')\n",
    "\n",
    "    for image_path in tqdm(image_path_list, total=len(image_path_list)):\n",
    "        filename = image_path.split('/')[-1]\n",
    "        \n",
    "        ds = pydicom.dcmread(image_path)\n",
    "#         samp_per_pix = ds.SamplesPerPixel\n",
    "        n_rows_image = ds.Rows\n",
    "        n_cols_image = ds.Columns\n",
    "        dicom_files.append([filename, n_rows_image, n_cols_image, image_path])\n",
    "\n",
    "    # Create a Pandas DataFrame from the list\n",
    "    image_metrics_df = pd.DataFrame(dicom_files, columns=[\"filename\", \"n_rows\", \"n_cols\", \"file_path\"])\n",
    "\n",
    "    output_file = \"image_metrics.csv\"\n",
    "    image_metrics_df.to_csv(output_file, index=False)\n",
    "else:\n",
    "    image_metrics_df = pd.read_csv('image_metrics.csv')\n",
    "\n",
    "image_metrics_df.head()"
   ]
  },
  {
   "cell_type": "code",
   "execution_count": 9,
   "id": "7ff3e924",
   "metadata": {},
   "outputs": [
    {
     "data": {
      "text/html": [
       "<div>\n",
       "<style scoped>\n",
       "    .dataframe tbody tr th:only-of-type {\n",
       "        vertical-align: middle;\n",
       "    }\n",
       "\n",
       "    .dataframe tbody tr th {\n",
       "        vertical-align: top;\n",
       "    }\n",
       "\n",
       "    .dataframe thead th {\n",
       "        text-align: right;\n",
       "    }\n",
       "</style>\n",
       "<table border=\"1\" class=\"dataframe\">\n",
       "  <thead>\n",
       "    <tr style=\"text-align: right;\">\n",
       "      <th></th>\n",
       "      <th>n_rows</th>\n",
       "      <th>n_cols</th>\n",
       "      <th>counts</th>\n",
       "    </tr>\n",
       "  </thead>\n",
       "  <tbody>\n",
       "    <tr>\n",
       "      <th>7</th>\n",
       "      <td>4096</td>\n",
       "      <td>3328</td>\n",
       "      <td>24109</td>\n",
       "    </tr>\n",
       "    <tr>\n",
       "      <th>6</th>\n",
       "      <td>3328</td>\n",
       "      <td>2560</td>\n",
       "      <td>9042</td>\n",
       "    </tr>\n",
       "    <tr>\n",
       "      <th>9</th>\n",
       "      <td>5355</td>\n",
       "      <td>4915</td>\n",
       "      <td>8267</td>\n",
       "    </tr>\n",
       "    <tr>\n",
       "      <th>3</th>\n",
       "      <td>2776</td>\n",
       "      <td>2082</td>\n",
       "      <td>8221</td>\n",
       "    </tr>\n",
       "    <tr>\n",
       "      <th>1</th>\n",
       "      <td>2294</td>\n",
       "      <td>1914</td>\n",
       "      <td>2703</td>\n",
       "    </tr>\n",
       "    <tr>\n",
       "      <th>5</th>\n",
       "      <td>3062</td>\n",
       "      <td>2394</td>\n",
       "      <td>1276</td>\n",
       "    </tr>\n",
       "    <tr>\n",
       "      <th>8</th>\n",
       "      <td>4740</td>\n",
       "      <td>3540</td>\n",
       "      <td>732</td>\n",
       "    </tr>\n",
       "    <tr>\n",
       "      <th>10</th>\n",
       "      <td>5928</td>\n",
       "      <td>4728</td>\n",
       "      <td>338</td>\n",
       "    </tr>\n",
       "    <tr>\n",
       "      <th>4</th>\n",
       "      <td>2850</td>\n",
       "      <td>2394</td>\n",
       "      <td>13</td>\n",
       "    </tr>\n",
       "    <tr>\n",
       "      <th>2</th>\n",
       "      <td>2473</td>\n",
       "      <td>2045</td>\n",
       "      <td>3</td>\n",
       "    </tr>\n",
       "    <tr>\n",
       "      <th>0</th>\n",
       "      <td>1236</td>\n",
       "      <td>1022</td>\n",
       "      <td>2</td>\n",
       "    </tr>\n",
       "  </tbody>\n",
       "</table>\n",
       "</div>"
      ],
      "text/plain": [
       "    n_rows  n_cols  counts\n",
       "7     4096    3328   24109\n",
       "6     3328    2560    9042\n",
       "9     5355    4915    8267\n",
       "3     2776    2082    8221\n",
       "1     2294    1914    2703\n",
       "5     3062    2394    1276\n",
       "8     4740    3540     732\n",
       "10    5928    4728     338\n",
       "4     2850    2394      13\n",
       "2     2473    2045       3\n",
       "0     1236    1022       2"
      ]
     },
     "execution_count": 9,
     "metadata": {},
     "output_type": "execute_result"
    }
   ],
   "source": [
    "counts_df = image_metrics_df.groupby(['n_rows', 'n_cols'])['filename'].size().reset_index().rename(columns = {'filename': 'counts'})\n",
    "counts_df.sort_values(by='counts', ascending=False)"
   ]
  },
  {
   "cell_type": "markdown",
   "id": "81a9dd4d",
   "metadata": {},
   "source": [
    "### Get most common image dimensions"
   ]
  },
  {
   "cell_type": "code",
   "execution_count": 26,
   "id": "75428a12",
   "metadata": {},
   "outputs": [],
   "source": [
    "# Most common image dimensions\n",
    "rows = 4096\n",
    "cols = 3328 \n",
    "\n",
    "selected_dimensions_df = image_metrics_df[\n",
    "    (image_metrics_df['n_rows'] == rows) &\n",
    "    (image_metrics_df['n_cols'] == cols)\n",
    "]\n",
    "selected_images = list(selected_dimensions_df['filename'])"
   ]
  },
  {
   "cell_type": "code",
   "execution_count": 43,
   "id": "9e19da09",
   "metadata": {},
   "outputs": [],
   "source": [
    "metadata_df = pd.read_csv(r\"../train.csv\")\n",
    "cancer_map = {f\"{str(rows['image_id'])}.dcm\": rows['cancer'] for i, rows in metadata_df.iterrows()}"
   ]
  },
  {
   "cell_type": "code",
   "execution_count": 53,
   "id": "e75362d8",
   "metadata": {},
   "outputs": [
    {
     "name": "stdout",
     "output_type": "stream",
     "text": [
      "Number of samples: 3000\n"
     ]
    },
    {
     "name": "stderr",
     "output_type": "stream",
     "text": [
      "/tmp/ipykernel_374/250811325.py:5: SettingWithCopyWarning: \n",
      "A value is trying to be set on a copy of a slice from a DataFrame.\n",
      "Try using .loc[row_indexer,col_indexer] = value instead\n",
      "\n",
      "See the caveats in the documentation: https://pandas.pydata.org/pandas-docs/stable/user_guide/indexing.html#returning-a-view-versus-a-copy\n",
      "  df['cancer'] = df['filename'].map(cancer_map)\n"
     ]
    },
    {
     "data": {
      "text/html": [
       "<div>\n",
       "<style scoped>\n",
       "    .dataframe tbody tr th:only-of-type {\n",
       "        vertical-align: middle;\n",
       "    }\n",
       "\n",
       "    .dataframe tbody tr th {\n",
       "        vertical-align: top;\n",
       "    }\n",
       "\n",
       "    .dataframe thead th {\n",
       "        text-align: right;\n",
       "    }\n",
       "</style>\n",
       "<table border=\"1\" class=\"dataframe\">\n",
       "  <thead>\n",
       "    <tr style=\"text-align: right;\">\n",
       "      <th></th>\n",
       "      <th>filename</th>\n",
       "      <th>n_rows</th>\n",
       "      <th>n_cols</th>\n",
       "      <th>file_path</th>\n",
       "      <th>cancer</th>\n",
       "    </tr>\n",
       "  </thead>\n",
       "  <tbody>\n",
       "    <tr>\n",
       "      <th>53865</th>\n",
       "      <td>164691998.dcm</td>\n",
       "      <td>4096</td>\n",
       "      <td>3328</td>\n",
       "      <td>../train_images/9052/164691998.dcm</td>\n",
       "      <td>0</td>\n",
       "    </tr>\n",
       "    <tr>\n",
       "      <th>25494</th>\n",
       "      <td>1253463023.dcm</td>\n",
       "      <td>4096</td>\n",
       "      <td>3328</td>\n",
       "      <td>../train_images/37265/1253463023.dcm</td>\n",
       "      <td>0</td>\n",
       "    </tr>\n",
       "    <tr>\n",
       "      <th>51188</th>\n",
       "      <td>457120714.dcm</td>\n",
       "      <td>4096</td>\n",
       "      <td>3328</td>\n",
       "      <td>../train_images/65181/457120714.dcm</td>\n",
       "      <td>0</td>\n",
       "    </tr>\n",
       "    <tr>\n",
       "      <th>19212</th>\n",
       "      <td>1721323862.dcm</td>\n",
       "      <td>4096</td>\n",
       "      <td>3328</td>\n",
       "      <td>../train_images/30319/1721323862.dcm</td>\n",
       "      <td>0</td>\n",
       "    </tr>\n",
       "    <tr>\n",
       "      <th>445</th>\n",
       "      <td>65932486.dcm</td>\n",
       "      <td>4096</td>\n",
       "      <td>3328</td>\n",
       "      <td>../train_images/1045/65932486.dcm</td>\n",
       "      <td>0</td>\n",
       "    </tr>\n",
       "  </tbody>\n",
       "</table>\n",
       "</div>"
      ],
      "text/plain": [
       "             filename  n_rows  n_cols                             file_path  \\\n",
       "53865   164691998.dcm    4096    3328    ../train_images/9052/164691998.dcm   \n",
       "25494  1253463023.dcm    4096    3328  ../train_images/37265/1253463023.dcm   \n",
       "51188   457120714.dcm    4096    3328   ../train_images/65181/457120714.dcm   \n",
       "19212  1721323862.dcm    4096    3328  ../train_images/30319/1721323862.dcm   \n",
       "445      65932486.dcm    4096    3328     ../train_images/1045/65932486.dcm   \n",
       "\n",
       "       cancer  \n",
       "53865       0  \n",
       "25494       0  \n",
       "51188       0  \n",
       "19212       0  \n",
       "445         0  "
      ]
     },
     "execution_count": 53,
     "metadata": {},
     "output_type": "execute_result"
    }
   ],
   "source": [
    "# get selected images\n",
    "df = image_metrics_df.loc[image_metrics_df['filename'].isin(selected_images), :]\n",
    "\n",
    "# add cancer labels\n",
    "df['cancer'] = df['filename'].map(cancer_map)\n",
    "\n",
    "if USE_REDUCED_DATASET:\n",
    "    df = df.sample(3000, random_state=random_state)\n",
    "    print(f'Number of samples: {len(df)}')\n",
    "\n",
    "df.head()"
   ]
  },
  {
   "cell_type": "markdown",
   "id": "5ceca794",
   "metadata": {},
   "source": [
    "### Split Data into Training and Test"
   ]
  },
  {
   "cell_type": "code",
   "execution_count": 16,
   "id": "9157741f",
   "metadata": {},
   "outputs": [],
   "source": [
    "# Resizing using skimage.transform\n",
    "# Resizing 2400 training images took 54:09\n",
    "# Resizing 600 test images took 13:39\n",
    "\n",
    "# TODO: Maybe try tf.image.resize?\n",
    "# TODO: Parallelizing"
   ]
  },
  {
   "cell_type": "code",
   "execution_count": 282,
   "id": "df62e48d",
   "metadata": {},
   "outputs": [],
   "source": [
    "name_tag = ''\n",
    "if USE_REDUCED_DATASET:\n",
    "    reduced_tag = '_reduced'\n",
    "    \n",
    "if not USE_IMPORTED_DATA and not os.path.isfile(f'X_train{reduced_tag}.pickle') and not os.path.isfile(f'X_test{reduced_tag}.pickle'):\n",
    "    train_df, test_df, y_train, y_test = train_test_split(df[['filename', 'file_path']], df['cancer'], test_size=0.2, random_state=random_state)\n",
    "    \n",
    "    y_train.to_csv(f'y_train{reduced_tag}.csv')\n",
    "    y_test.to_csv(f'y_test{reduced_tag}.csv')\n",
    "    \n",
    "    \n",
    "    # RESIZE IMAGES\n",
    "    print('Resizing Train images')\n",
    "    images_train = []\n",
    "    for i, rows in tqdm(train_df.reset_index(drop=True).iterrows(), total=len(train_df)):\n",
    "        ds = pydicom.dcmread(rows['file_path'])\n",
    "        images_train.append(transform.resize(ds.pixel_array, resize_dimensions))\n",
    "    \n",
    "    print('Resizing Test images')\n",
    "    images_test = []\n",
    "    for i, rows in tqdm(test_df.reset_index(drop=True).iterrows(), total=len(test_df)):\n",
    "        ds = pydicom.dcmread(rows['file_path'])\n",
    "        images_test.append(transform.resize(ds.pixel_array, resize_dimensions))\n",
    "    \n",
    "    X_train = np.array(images_train)\n",
    "    X_test = np.array(images_test)\n",
    "    \n",
    "    \n",
    "    with open(f'X_train{reduced_tag}.pickle', 'wb') as f:\n",
    "        pickle.dump(X_train, f)\n",
    "    with open(f'X_test{reduced_tag}.pickle', 'wb') as f:\n",
    "        pickle.dump(X_test, f)\n",
    "    \n",
    "else:\n",
    "    y_train = pd.read_csv(f'y_train{reduced_tag}.csv', index_col=0)\n",
    "    y_test = pd.read_csv(f'y_test{reduced_tag}.csv', index_col=0)\n",
    "  \n",
    "\n",
    "    with open(f'X_train{reduced_tag}.pickle', 'rb') as f:\n",
    "        X_train = pickle.load(f)\n",
    "        \n",
    "    with open(f'X_test{reduced_tag}.pickle', 'rb') as f:\n",
    "        X_test = pickle.load(f)\n"
   ]
  },
  {
   "cell_type": "code",
   "execution_count": 283,
   "id": "cfc26f7c",
   "metadata": {},
   "outputs": [
    {
     "data": {
      "image/png": "[encoded data removed]",
      "text/plain": [
       "<Figure size 432x288 with 1 Axes>"
      ]
     },
     "metadata": {
      "needs_background": "light"
     },
     "output_type": "display_data"
    }
   ],
   "source": [
    "plt.imshow(X_train[0], cmap=plt.cm.gray)\n",
    "plt.show()"
   ]
  },
  {
   "cell_type": "code",
   "execution_count": 284,
   "id": "a116ad9e",
   "metadata": {},
   "outputs": [
    {
     "name": "stdout",
     "output_type": "stream",
     "text": [
      "Train label counts\n",
      "0    2355\n",
      "1      45\n",
      "Name: cancer, dtype: int64\n",
      "\n",
      "\n",
      "Test label counts\n",
      "0    580\n",
      "1     20\n",
      "Name: cancer, dtype: int64\n"
     ]
    }
   ],
   "source": [
    "print('Train label counts')\n",
    "print(y_train['cancer'].value_counts())\n",
    "print('\\n')\n",
    "print('Test label counts')\n",
    "print(y_test['cancer'].value_counts())"
   ]
  },
  {
   "cell_type": "code",
   "execution_count": 285,
   "id": "637e81b6",
   "metadata": {},
   "outputs": [
    {
     "name": "stdout",
     "output_type": "stream",
     "text": [
      "X_train shape: (2400, 224, 224)\n",
      "X_test shape: (600, 224, 224)\n"
     ]
    }
   ],
   "source": [
    "print(f'X_train shape: {X_train.shape}')\n",
    "print(f'X_test shape: {X_test.shape}')"
   ]
  },
  {
   "cell_type": "code",
   "execution_count": 286,
   "id": "1d8d43b6",
   "metadata": {},
   "outputs": [],
   "source": [
    "X_train, X_val, y_train, y_val = train_test_split(X_train, np.array(y_train).flatten(), test_size=0.2)"
   ]
  },
  {
   "cell_type": "code",
   "execution_count": 279,
   "id": "39ce6010",
   "metadata": {},
   "outputs": [
    {
     "name": "stdout",
     "output_type": "stream",
     "text": [
      "X_train shape: (3016, 224, 224, 1)\n",
      "X_val shape: (755, 224, 224, 1)\n"
     ]
    }
   ],
   "source": [
    "print(f'X_train shape: {X_train.shape}')\n",
    "print(f'X_val shape: {X_val.shape}')"
   ]
  },
  {
   "cell_type": "markdown",
   "id": "4f9c23f8",
   "metadata": {},
   "source": [
    "## EDA"
   ]
  },
  {
   "cell_type": "code",
   "execution_count": null,
   "id": "82ccb03e",
   "metadata": {},
   "outputs": [],
   "source": []
  },
  {
   "cell_type": "markdown",
   "id": "68a730b7",
   "metadata": {},
   "source": [
    "## Preprocess Data"
   ]
  },
  {
   "cell_type": "code",
   "execution_count": 295,
   "id": "fe5a0a90",
   "metadata": {},
   "outputs": [],
   "source": [
    "X_train = X_train.reshape(X_train.shape[0], X_train.shape[1], X_train.shape[2], 1)\n",
    "X_val = X_val.reshape(X_val.shape[0], X_val.shape[1], X_val.shape[2], 1)\n",
    "X_test = X_test.reshape(X_test.shape[0], X_test.shape[1], X_test.shape[2], 1)"
   ]
  },
  {
   "cell_type": "code",
   "execution_count": 296,
   "id": "ee11c9b4",
   "metadata": {},
   "outputs": [
    {
     "name": "stdout",
     "output_type": "stream",
     "text": [
      "Majority size: 1884\n",
      "Minority size: 36\n"
     ]
    }
   ],
   "source": [
    "majority_data = X_train[np.where(y_train == 0)[0]]\n",
    "minority_data = X_train[np.where(y_train == 1)[0]]\n",
    "\n",
    "print(f'Majority size: {len(majority_data)}')\n",
    "print(f'Minority size: {len(minority_data)}')"
   ]
  },
  {
   "cell_type": "code",
   "execution_count": 244,
   "id": "fa72274e",
   "metadata": {},
   "outputs": [],
   "source": [
    "datagen = ImageDataGenerator(\n",
    "    rotation_range=10,  # augmentations\n",
    "    width_shift_range=0.1,\n",
    "    height_shift_range=0.1,\n",
    "    shear_range=0.1,\n",
    "    zoom_range=0.1,\n",
    "    horizontal_flip=True,\n",
    "    fill_mode='nearest',\n",
    ")\n",
    "\n",
    "\n",
    "minority_generator = datagen.flow(\n",
    "    minority_data,\n",
    "    np.ones(len(minority_data)),\n",
    "    batch_size=1,\n",
    "    seed=random_state\n",
    ")"
   ]
  },
  {
   "cell_type": "code",
   "execution_count": null,
   "id": "87a8e91b",
   "metadata": {},
   "outputs": [],
   "source": [
    "# adding augmented images runtime: "
   ]
  },
  {
   "cell_type": "code",
   "execution_count": 245,
   "id": "60aba78a",
   "metadata": {},
   "outputs": [
    {
     "name": "stderr",
     "output_type": "stream",
     "text": [
      "100%|███████████████████████████████████████████████████████████████████████████████████████████████████████████████████████████████████████████████████████| 1850/1850 [05:59<00:00,  5.15it/s]\n"
     ]
    }
   ],
   "source": [
    "# num_images_to_add = len(majority_data) - len(minority_data) - 1\n",
    "\n",
    "# for i, (x, y) in tqdm(enumerate(minority_generator), total=num_images_to_add):\n",
    "#     X_train = np.vstack([X_train, x[0].reshape((1, resize_dimensions[0], resize_dimensions[1], 1))])\n",
    "#     y_train = np.append(y_train, y[0])\n",
    "    \n",
    "#     if i == num_images_to_add:\n",
    "#         break\n",
    "# #     plt.imshow(testing[0][0], cmap=plt.cm.gray)\n",
    "# #     plt.show()\n"
   ]
  },
  {
   "cell_type": "code",
   "execution_count": 253,
   "id": "ac68a84d",
   "metadata": {},
   "outputs": [
    {
     "name": "stdout",
     "output_type": "stream",
     "text": [
      "Majority size: 1885\n",
      "Minority size: 1886\n"
     ]
    }
   ],
   "source": [
    "# majority_data = X_train[np.where(y_train == 0)[0]]\n",
    "# minority_data = X_train[np.where(y_train == 1)[0]]\n",
    "\n",
    "# print(f'Majority size: {len(majority_data)}')\n",
    "# print(f'Minority size: {len(minority_data)}')"
   ]
  },
  {
   "cell_type": "code",
   "execution_count": 287,
   "id": "122d7d36",
   "metadata": {},
   "outputs": [
    {
     "data": {
      "text/plain": [
       "numpy.ndarray"
      ]
     },
     "execution_count": 287,
     "metadata": {},
     "output_type": "execute_result"
    }
   ],
   "source": [
    "type(X_train)"
   ]
  },
  {
   "cell_type": "code",
   "execution_count": 293,
   "id": "06e6c185",
   "metadata": {},
   "outputs": [
    {
     "data": {
      "text/plain": [
       "numpy.ndarray"
      ]
     },
     "execution_count": 293,
     "metadata": {},
     "output_type": "execute_result"
    }
   ],
   "source": [
    "type(y_train)"
   ]
  },
  {
   "cell_type": "code",
   "execution_count": 297,
   "id": "0e9a5bb0",
   "metadata": {},
   "outputs": [
    {
     "data": {
      "text/plain": [
       "(1920, 224, 224, 1)"
      ]
     },
     "execution_count": 297,
     "metadata": {},
     "output_type": "execute_result"
    }
   ],
   "source": [
    "X_train.shape"
   ]
  },
  {
   "cell_type": "code",
   "execution_count": 298,
   "id": "5038f35e",
   "metadata": {},
   "outputs": [
    {
     "data": {
      "text/plain": [
       "(1920,)"
      ]
     },
     "execution_count": 298,
     "metadata": {},
     "output_type": "execute_result"
    }
   ],
   "source": [
    "y_train.shape"
   ]
  },
  {
   "cell_type": "markdown",
   "id": "afd0132e",
   "metadata": {},
   "source": [
    "## Build Model"
   ]
  },
  {
   "cell_type": "code",
   "execution_count": 299,
   "id": "8e0905e2",
   "metadata": {},
   "outputs": [
    {
     "name": "stdout",
     "output_type": "stream",
     "text": [
      "Model: \"sequential_9\"\n",
      "_________________________________________________________________\n",
      " Layer (type)                Output Shape              Param #   \n",
      "=================================================================\n",
      " conv2d_27 (Conv2D)          (None, 222, 222, 32)      320       \n",
      "                                                                 \n",
      " max_pooling2d_27 (MaxPoolin  (None, 111, 111, 32)     0         \n",
      " g2D)                                                            \n",
      "                                                                 \n",
      " conv2d_28 (Conv2D)          (None, 109, 109, 64)      18496     \n",
      "                                                                 \n",
      " max_pooling2d_28 (MaxPoolin  (None, 54, 54, 64)       0         \n",
      " g2D)                                                            \n",
      "                                                                 \n",
      " conv2d_29 (Conv2D)          (None, 52, 52, 128)       73856     \n",
      "                                                                 \n",
      " max_pooling2d_29 (MaxPoolin  (None, 26, 26, 128)      0         \n",
      " g2D)                                                            \n",
      "                                                                 \n",
      " flatten_9 (Flatten)         (None, 86528)             0         \n",
      "                                                                 \n",
      " dense_18 (Dense)            (None, 64)                5537856   \n",
      "                                                                 \n",
      " dropout_9 (Dropout)         (None, 64)                0         \n",
      "                                                                 \n",
      " dense_19 (Dense)            (None, 1)                 65        \n",
      "                                                                 \n",
      "=================================================================\n",
      "Total params: 5,630,593\n",
      "Trainable params: 5,630,593\n",
      "Non-trainable params: 0\n",
      "_________________________________________________________________\n"
     ]
    }
   ],
   "source": [
    "model = Sequential([\n",
    "    Conv2D(32, (3, 3), activation='relu'),\n",
    "    MaxPooling2D((2, 2)),\n",
    "    Conv2D(64, (3, 3), activation='relu'),\n",
    "    MaxPooling2D((2, 2)),\n",
    "    Conv2D(128, (3, 3), activation='relu'),\n",
    "    MaxPooling2D((2, 2)),\n",
    "    Flatten(),\n",
    "    Dense(64, activation='relu'),\n",
    "    Dropout(0.5),\n",
    "    Dense(1, activation='sigmoid')\n",
    "])\n",
    "\n",
    "model.build(input_shape=(None, 224, 224, 1))\n",
    "model.summary()\n",
    "\n"
   ]
  },
  {
   "cell_type": "code",
   "execution_count": 300,
   "id": "80bf0aed",
   "metadata": {},
   "outputs": [],
   "source": [
    "\n",
    "model.compile(optimizer='adam',\n",
    "              loss='binary_crossentropy',\n",
    "              metrics=[AUC()])\n"
   ]
  },
  {
   "cell_type": "code",
   "execution_count": 301,
   "id": "45d6bf94",
   "metadata": {},
   "outputs": [
    {
     "name": "stdout",
     "output_type": "stream",
     "text": [
      "Epoch 1/10\n",
      "60/60 [==============================] - ETA: 0s - loss: 0.1583 - auc_8: 0.5204"
     ]
    },
    {
     "name": "stderr",
     "output_type": "stream",
     "text": [
      "2023-03-25 23:34:25.012094: I tensorflow/core/common_runtime/executor.cc:1197] [/device:CPU:0] (DEBUG INFO) Executor start aborting (this does not indicate an error and you can ignore this message): INVALID_ARGUMENT: You must feed a value for placeholder tensor 'Placeholder/_0' with dtype int32\n",
      "\t [[{{node Placeholder/_0}}]]\n",
      "2023-03-25 23:34:25.211100: W tensorflow/core/framework/op_kernel.cc:1830] OP_REQUIRES failed at segment_reduction_ops_impl.h:476 : INVALID_ARGUMENT: data.shape = [2] does not start with segment_ids.shape = [1]\n",
      "2023-03-25 23:34:25.211196: I tensorflow/core/common_runtime/executor.cc:1197] [/job:localhost/replica:0/task:0/device:CPU:0] (DEBUG INFO) Executor start aborting (this does not indicate an error and you can ignore this message): INVALID_ARGUMENT: data.shape = [2] does not start with segment_ids.shape = [1]\n",
      "\t [[{{node UnsortedSegmentSum_1}}]]\n",
      "2023-03-25 23:34:25.211213: W tensorflow/core/framework/op_kernel.cc:1830] OP_REQUIRES failed at segment_reduction_ops_impl.h:476 : INVALID_ARGUMENT: data.shape = [2] does not start with segment_ids.shape = [1]\n"
     ]
    },
    {
     "ename": "InvalidArgumentError",
     "evalue": "Graph execution error:\n\nDetected at node 'UnsortedSegmentSum_1' defined at (most recent call last):\n    File \"/usr/lib/python3.10/runpy.py\", line 196, in _run_module_as_main\n      return _run_code(code, main_globals, None,\n    File \"/usr/lib/python3.10/runpy.py\", line 86, in _run_code\n      exec(code, run_globals)\n    File \"/usr/lib/python3/dist-packages/ipykernel_launcher.py\", line 16, in <module>\n      app.launch_new_instance()\n    File \"/usr/lib/python3/dist-packages/traitlets/config/application.py\", line 846, in launch_instance\n      app.start()\n    File \"/usr/lib/python3/dist-packages/ipykernel/kernelapp.py\", line 677, in start\n      self.io_loop.start()\n    File \"/usr/lib/python3/dist-packages/tornado/platform/asyncio.py\", line 199, in start\n      self.asyncio_loop.run_forever()\n    File \"/usr/lib/python3.10/asyncio/base_events.py\", line 600, in run_forever\n      self._run_once()\n    File \"/usr/lib/python3.10/asyncio/base_events.py\", line 1896, in _run_once\n      handle._run()\n    File \"/usr/lib/python3.10/asyncio/events.py\", line 80, in _run\n      self._context.run(self._callback, *self._args)\n    File \"/usr/lib/python3/dist-packages/ipykernel/kernelbase.py\", line 461, in dispatch_queue\n      await self.process_one()\n    File \"/usr/lib/python3/dist-packages/ipykernel/kernelbase.py\", line 450, in process_one\n      await dispatch(*args)\n    File \"/usr/lib/python3/dist-packages/ipykernel/kernelbase.py\", line 357, in dispatch_shell\n      await result\n    File \"/usr/lib/python3/dist-packages/ipykernel/kernelbase.py\", line 652, in execute_request\n      reply_content = await reply_content\n    File \"/usr/lib/python3/dist-packages/ipykernel/ipkernel.py\", line 353, in do_execute\n      res = shell.run_cell(code, store_history=store_history, silent=silent)\n    File \"/usr/lib/python3/dist-packages/ipykernel/zmqshell.py\", line 532, in run_cell\n      return super().run_cell(*args, **kwargs)\n    File \"/usr/lib/python3/dist-packages/IPython/core/interactiveshell.py\", line 2914, in run_cell\n      result = self._run_cell(\n    File \"/usr/lib/python3/dist-packages/IPython/core/interactiveshell.py\", line 2960, in _run_cell\n      return runner(coro)\n    File \"/usr/lib/python3/dist-packages/IPython/core/async_helpers.py\", line 78, in _pseudo_sync_runner\n      coro.send(None)\n    File \"/usr/lib/python3/dist-packages/IPython/core/interactiveshell.py\", line 3185, in run_cell_async\n      has_raised = await self.run_ast_nodes(code_ast.body, cell_name,\n    File \"/usr/lib/python3/dist-packages/IPython/core/interactiveshell.py\", line 3377, in run_ast_nodes\n      if (await self.run_code(code, result,  async_=asy)):\n    File \"/usr/lib/python3/dist-packages/IPython/core/interactiveshell.py\", line 3457, in run_code\n      exec(code_obj, self.user_global_ns, self.user_ns)\n    File \"/tmp/ipykernel_374/2809430666.py\", line 2, in <module>\n      cnn = model.fit(\n    File \"/home/bho597/.local/lib/python3.10/site-packages/keras/utils/traceback_utils.py\", line 65, in error_handler\n      return fn(*args, **kwargs)\n    File \"/home/bho597/.local/lib/python3.10/site-packages/keras/engine/training.py\", line 1729, in fit\n      val_logs = self.evaluate(\n    File \"/home/bho597/.local/lib/python3.10/site-packages/keras/utils/traceback_utils.py\", line 65, in error_handler\n      return fn(*args, **kwargs)\n    File \"/home/bho597/.local/lib/python3.10/site-packages/keras/engine/training.py\", line 2072, in evaluate\n      tmp_logs = self.test_function(iterator)\n    File \"/home/bho597/.local/lib/python3.10/site-packages/keras/engine/training.py\", line 1852, in test_function\n      return step_function(self, iterator)\n    File \"/home/bho597/.local/lib/python3.10/site-packages/keras/engine/training.py\", line 1836, in step_function\n      outputs = model.distribute_strategy.run(run_step, args=(data,))\n    File \"/home/bho597/.local/lib/python3.10/site-packages/keras/engine/training.py\", line 1824, in run_step\n      outputs = model.test_step(data)\n    File \"/home/bho597/.local/lib/python3.10/site-packages/keras/engine/training.py\", line 1791, in test_step\n      return self.compute_metrics(x, y, y_pred, sample_weight)\n    File \"/home/bho597/.local/lib/python3.10/site-packages/keras/engine/training.py\", line 1149, in compute_metrics\n      self.compiled_metrics.update_state(y, y_pred, sample_weight)\n    File \"/home/bho597/.local/lib/python3.10/site-packages/keras/engine/compile_utils.py\", line 605, in update_state\n      metric_obj.update_state(y_t, y_p, sample_weight=mask)\n    File \"/home/bho597/.local/lib/python3.10/site-packages/keras/utils/metrics_utils.py\", line 77, in decorated\n      update_op = update_state_fn(*args, **kwargs)\n    File \"/home/bho597/.local/lib/python3.10/site-packages/keras/metrics/base_metric.py\", line 140, in update_state_fn\n      return ag_update_state(*args, **kwargs)\n    File \"/home/bho597/.local/lib/python3.10/site-packages/keras/metrics/confusion_metrics.py\", line 1485, in update_state\n      return metrics_utils.update_confusion_matrix_variables(\n    File \"/home/bho597/.local/lib/python3.10/site-packages/keras/utils/metrics_utils.py\", line 684, in update_confusion_matrix_variables\n      return _update_confusion_matrix_variables_optimized(\n    File \"/home/bho597/.local/lib/python3.10/site-packages/keras/utils/metrics_utils.py\", line 473, in _update_confusion_matrix_variables_optimized\n      fp_bucket_v = tf.math.unsorted_segment_sum(\nNode: 'UnsortedSegmentSum_1'\ndata.shape = [2] does not start with segment_ids.shape = [1]\n\t [[{{node UnsortedSegmentSum_1}}]] [Op:__inference_test_function_17803]",
     "output_type": "error",
     "traceback": [
      "\u001b[0;31m---------------------------------------------------------------------------\u001b[0m",
      "\u001b[0;31mInvalidArgumentError\u001b[0m                      Traceback (most recent call last)",
      "\u001b[0;32m/tmp/ipykernel_374/2809430666.py\u001b[0m in \u001b[0;36m<module>\u001b[0;34m\u001b[0m\n\u001b[1;32m      1\u001b[0m \u001b[0mepochs\u001b[0m \u001b[0;34m=\u001b[0m \u001b[0;36m10\u001b[0m\u001b[0;34m\u001b[0m\u001b[0;34m\u001b[0m\u001b[0m\n\u001b[0;32m----> 2\u001b[0;31m cnn = model.fit(\n\u001b[0m\u001b[1;32m      3\u001b[0m     \u001b[0mX_train\u001b[0m\u001b[0;34m,\u001b[0m\u001b[0;34m\u001b[0m\u001b[0;34m\u001b[0m\u001b[0m\n\u001b[1;32m      4\u001b[0m     \u001b[0my_train\u001b[0m\u001b[0;34m,\u001b[0m\u001b[0;34m\u001b[0m\u001b[0;34m\u001b[0m\u001b[0m\n\u001b[1;32m      5\u001b[0m     \u001b[0mbatch_size\u001b[0m\u001b[0;34m=\u001b[0m\u001b[0;36m32\u001b[0m\u001b[0;34m,\u001b[0m\u001b[0;34m\u001b[0m\u001b[0;34m\u001b[0m\u001b[0m\n",
      "\u001b[0;32m~/.local/lib/python3.10/site-packages/keras/utils/traceback_utils.py\u001b[0m in \u001b[0;36merror_handler\u001b[0;34m(*args, **kwargs)\u001b[0m\n\u001b[1;32m     68\u001b[0m             \u001b[0;31m# To get the full stack trace, call:\u001b[0m\u001b[0;34m\u001b[0m\u001b[0;34m\u001b[0m\u001b[0m\n\u001b[1;32m     69\u001b[0m             \u001b[0;31m# `tf.debugging.disable_traceback_filtering()`\u001b[0m\u001b[0;34m\u001b[0m\u001b[0;34m\u001b[0m\u001b[0m\n\u001b[0;32m---> 70\u001b[0;31m             \u001b[0;32mraise\u001b[0m \u001b[0me\u001b[0m\u001b[0;34m.\u001b[0m\u001b[0mwith_traceback\u001b[0m\u001b[0;34m(\u001b[0m\u001b[0mfiltered_tb\u001b[0m\u001b[0;34m)\u001b[0m \u001b[0;32mfrom\u001b[0m \u001b[0;32mNone\u001b[0m\u001b[0;34m\u001b[0m\u001b[0;34m\u001b[0m\u001b[0m\n\u001b[0m\u001b[1;32m     71\u001b[0m         \u001b[0;32mfinally\u001b[0m\u001b[0;34m:\u001b[0m\u001b[0;34m\u001b[0m\u001b[0;34m\u001b[0m\u001b[0m\n\u001b[1;32m     72\u001b[0m             \u001b[0;32mdel\u001b[0m \u001b[0mfiltered_tb\u001b[0m\u001b[0;34m\u001b[0m\u001b[0;34m\u001b[0m\u001b[0m\n",
      "\u001b[0;32m~/.local/lib/python3.10/site-packages/tensorflow/python/eager/execute.py\u001b[0m in \u001b[0;36mquick_execute\u001b[0;34m(op_name, num_outputs, inputs, attrs, ctx, name)\u001b[0m\n\u001b[1;32m     50\u001b[0m   \u001b[0;32mtry\u001b[0m\u001b[0;34m:\u001b[0m\u001b[0;34m\u001b[0m\u001b[0;34m\u001b[0m\u001b[0m\n\u001b[1;32m     51\u001b[0m     \u001b[0mctx\u001b[0m\u001b[0;34m.\u001b[0m\u001b[0mensure_initialized\u001b[0m\u001b[0;34m(\u001b[0m\u001b[0;34m)\u001b[0m\u001b[0;34m\u001b[0m\u001b[0;34m\u001b[0m\u001b[0m\n\u001b[0;32m---> 52\u001b[0;31m     tensors = pywrap_tfe.TFE_Py_Execute(ctx._handle, device_name, op_name,\n\u001b[0m\u001b[1;32m     53\u001b[0m                                         inputs, attrs, num_outputs)\n\u001b[1;32m     54\u001b[0m   \u001b[0;32mexcept\u001b[0m \u001b[0mcore\u001b[0m\u001b[0;34m.\u001b[0m\u001b[0m_NotOkStatusException\u001b[0m \u001b[0;32mas\u001b[0m \u001b[0me\u001b[0m\u001b[0;34m:\u001b[0m\u001b[0;34m\u001b[0m\u001b[0;34m\u001b[0m\u001b[0m\n",
      "\u001b[0;31mInvalidArgumentError\u001b[0m: Graph execution error:\n\nDetected at node 'UnsortedSegmentSum_1' defined at (most recent call last):\n    File \"/usr/lib/python3.10/runpy.py\", line 196, in _run_module_as_main\n      return _run_code(code, main_globals, None,\n    File \"/usr/lib/python3.10/runpy.py\", line 86, in _run_code\n      exec(code, run_globals)\n    File \"/usr/lib/python3/dist-packages/ipykernel_launcher.py\", line 16, in <module>\n      app.launch_new_instance()\n    File \"/usr/lib/python3/dist-packages/traitlets/config/application.py\", line 846, in launch_instance\n      app.start()\n    File \"/usr/lib/python3/dist-packages/ipykernel/kernelapp.py\", line 677, in start\n      self.io_loop.start()\n    File \"/usr/lib/python3/dist-packages/tornado/platform/asyncio.py\", line 199, in start\n      self.asyncio_loop.run_forever()\n    File \"/usr/lib/python3.10/asyncio/base_events.py\", line 600, in run_forever\n      self._run_once()\n    File \"/usr/lib/python3.10/asyncio/base_events.py\", line 1896, in _run_once\n      handle._run()\n    File \"/usr/lib/python3.10/asyncio/events.py\", line 80, in _run\n      self._context.run(self._callback, *self._args)\n    File \"/usr/lib/python3/dist-packages/ipykernel/kernelbase.py\", line 461, in dispatch_queue\n      await self.process_one()\n    File \"/usr/lib/python3/dist-packages/ipykernel/kernelbase.py\", line 450, in process_one\n      await dispatch(*args)\n    File \"/usr/lib/python3/dist-packages/ipykernel/kernelbase.py\", line 357, in dispatch_shell\n      await result\n    File \"/usr/lib/python3/dist-packages/ipykernel/kernelbase.py\", line 652, in execute_request\n      reply_content = await reply_content\n    File \"/usr/lib/python3/dist-packages/ipykernel/ipkernel.py\", line 353, in do_execute\n      res = shell.run_cell(code, store_history=store_history, silent=silent)\n    File \"/usr/lib/python3/dist-packages/ipykernel/zmqshell.py\", line 532, in run_cell\n      return super().run_cell(*args, **kwargs)\n    File \"/usr/lib/python3/dist-packages/IPython/core/interactiveshell.py\", line 2914, in run_cell\n      result = self._run_cell(\n    File \"/usr/lib/python3/dist-packages/IPython/core/interactiveshell.py\", line 2960, in _run_cell\n      return runner(coro)\n    File \"/usr/lib/python3/dist-packages/IPython/core/async_helpers.py\", line 78, in _pseudo_sync_runner\n      coro.send(None)\n    File \"/usr/lib/python3/dist-packages/IPython/core/interactiveshell.py\", line 3185, in run_cell_async\n      has_raised = await self.run_ast_nodes(code_ast.body, cell_name,\n    File \"/usr/lib/python3/dist-packages/IPython/core/interactiveshell.py\", line 3377, in run_ast_nodes\n      if (await self.run_code(code, result,  async_=asy)):\n    File \"/usr/lib/python3/dist-packages/IPython/core/interactiveshell.py\", line 3457, in run_code\n      exec(code_obj, self.user_global_ns, self.user_ns)\n    File \"/tmp/ipykernel_374/2809430666.py\", line 2, in <module>\n      cnn = model.fit(\n    File \"/home/bho597/.local/lib/python3.10/site-packages/keras/utils/traceback_utils.py\", line 65, in error_handler\n      return fn(*args, **kwargs)\n    File \"/home/bho597/.local/lib/python3.10/site-packages/keras/engine/training.py\", line 1729, in fit\n      val_logs = self.evaluate(\n    File \"/home/bho597/.local/lib/python3.10/site-packages/keras/utils/traceback_utils.py\", line 65, in error_handler\n      return fn(*args, **kwargs)\n    File \"/home/bho597/.local/lib/python3.10/site-packages/keras/engine/training.py\", line 2072, in evaluate\n      tmp_logs = self.test_function(iterator)\n    File \"/home/bho597/.local/lib/python3.10/site-packages/keras/engine/training.py\", line 1852, in test_function\n      return step_function(self, iterator)\n    File \"/home/bho597/.local/lib/python3.10/site-packages/keras/engine/training.py\", line 1836, in step_function\n      outputs = model.distribute_strategy.run(run_step, args=(data,))\n    File \"/home/bho597/.local/lib/python3.10/site-packages/keras/engine/training.py\", line 1824, in run_step\n      outputs = model.test_step(data)\n    File \"/home/bho597/.local/lib/python3.10/site-packages/keras/engine/training.py\", line 1791, in test_step\n      return self.compute_metrics(x, y, y_pred, sample_weight)\n    File \"/home/bho597/.local/lib/python3.10/site-packages/keras/engine/training.py\", line 1149, in compute_metrics\n      self.compiled_metrics.update_state(y, y_pred, sample_weight)\n    File \"/home/bho597/.local/lib/python3.10/site-packages/keras/engine/compile_utils.py\", line 605, in update_state\n      metric_obj.update_state(y_t, y_p, sample_weight=mask)\n    File \"/home/bho597/.local/lib/python3.10/site-packages/keras/utils/metrics_utils.py\", line 77, in decorated\n      update_op = update_state_fn(*args, **kwargs)\n    File \"/home/bho597/.local/lib/python3.10/site-packages/keras/metrics/base_metric.py\", line 140, in update_state_fn\n      return ag_update_state(*args, **kwargs)\n    File \"/home/bho597/.local/lib/python3.10/site-packages/keras/metrics/confusion_metrics.py\", line 1485, in update_state\n      return metrics_utils.update_confusion_matrix_variables(\n    File \"/home/bho597/.local/lib/python3.10/site-packages/keras/utils/metrics_utils.py\", line 684, in update_confusion_matrix_variables\n      return _update_confusion_matrix_variables_optimized(\n    File \"/home/bho597/.local/lib/python3.10/site-packages/keras/utils/metrics_utils.py\", line 473, in _update_confusion_matrix_variables_optimized\n      fp_bucket_v = tf.math.unsorted_segment_sum(\nNode: 'UnsortedSegmentSum_1'\ndata.shape = [2] does not start with segment_ids.shape = [1]\n\t [[{{node UnsortedSegmentSum_1}}]] [Op:__inference_test_function_17803]"
     ]
    }
   ],
   "source": [
    "epochs = 10\n",
    "cnn = model.fit(\n",
    "    X_train,\n",
    "    y_train,\n",
    "    batch_size=32,\n",
    "    epochs=epochs,\n",
    "    validation_data=val_dataset\n",
    ")"
   ]
  },
  {
   "cell_type": "code",
   "execution_count": 113,
   "id": "02a0d5fa",
   "metadata": {},
   "outputs": [
    {
     "data": {
      "image/png": "[encoded data removed]",
      "text/plain": [
       "<Figure size 432x288 with 1 Axes>"
      ]
     },
     "metadata": {
      "needs_background": "light"
     },
     "output_type": "display_data"
    }
   ],
   "source": [
    "history = pd.DataFrame(cnn.history)\n",
    "# history\n",
    "plot_history(history)"
   ]
  },
  {
   "cell_type": "code",
   "execution_count": null,
   "id": "d46fb829",
   "metadata": {},
   "outputs": [],
   "source": []
  }
 ],
 "metadata": {
  "kernelspec": {
   "display_name": "Python 3 (ipykernel)",
   "language": "python",
   "name": "python3"
  },
  "language_info": {
   "codemirror_mode": {
    "name": "ipython",
    "version": 3
   },
   "file_extension": ".py",
   "mimetype": "text/x-python",
   "name": "python",
   "nbconvert_exporter": "python",
   "pygments_lexer": "ipython3",
   "version": "3.10.6"
  }
 },
 "nbformat": 4,
 "nbformat_minor": 5
}
